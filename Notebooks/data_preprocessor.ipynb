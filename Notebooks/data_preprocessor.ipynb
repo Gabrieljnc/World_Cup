{
 "cells": [
  {
   "cell_type": "code",
   "execution_count": 1,
   "id": "bbaf6727-a1a6-4950-b2c8-f32437813bc2",
   "metadata": {},
   "outputs": [],
   "source": [
    "import pandas as pd\n",
    "import matplotlib.pyplot as plt\n",
    "import seaborn as sns\n",
    "\n",
    "\n",
    "pd.set_option('display.max_rows', 268)\n",
    "pd.set_option('display.max_columns', None)"
   ]
  },
  {
   "cell_type": "code",
   "execution_count": 2,
   "id": "124b4617-4537-473c-9418-6f5ffefdf239",
   "metadata": {},
   "outputs": [
    {
     "name": "stdout",
     "output_type": "stream",
     "text": [
      "CPU times: user 6.45 s, sys: 1.54 s, total: 7.99 s\n",
      "Wall time: 8.3 s\n"
     ]
    }
   ],
   "source": [
    "%%time\n",
    "path_events = '/Users/gabrieljnc/Desktop/GitHub/World_Cup_main/Data/raw_all_events_data.csv'\n",
    "raw_data_events = pd.read_csv(path_events, low_memory=False)"
   ]
  },
  {
   "cell_type": "code",
   "execution_count": 3,
   "id": "61ea62fd-d4d4-43ce-bc7d-09dfbd21fcc5",
   "metadata": {},
   "outputs": [
    {
     "name": "stdout",
     "output_type": "stream",
     "text": [
      "CPU times: user 4.1 ms, sys: 7.23 ms, total: 11.3 ms\n",
      "Wall time: 10.5 ms\n"
     ]
    }
   ],
   "source": [
    "%%time\n",
    "path_matches = '/Users/gabrieljnc/Desktop/GitHub/World_Cup_main/Data/raw_matches_detail.csv'\n",
    "raw_data_matches = pd.read_csv(path_matches)"
   ]
  },
  {
   "cell_type": "code",
   "execution_count": 4,
   "id": "ea0cfb79-5c2f-4a40-939c-3227012abf4a",
   "metadata": {},
   "outputs": [
    {
     "name": "stdout",
     "output_type": "stream",
     "text": [
      "O dataframe de eventos ocupa 500.35 megabytes de memória.\n"
     ]
    }
   ],
   "source": [
    "# Calcular o uso de memória em bytes\n",
    "memory_bytes = raw_data_events.memory_usage().sum()\n",
    "\n",
    "# Converter para megabytes (opcional)\n",
    "memory_mb = memory_bytes / 1024 / 1024\n",
    "\n",
    "# Imprimir o tamanho total de memória em megabytes\n",
    "print(f'O dataframe de eventos ocupa {memory_mb:.2f} megabytes de memória.')"
   ]
  },
  {
   "cell_type": "code",
   "execution_count": 5,
   "id": "edd7fa81-f2ca-45af-8961-ddc09454e09d",
   "metadata": {},
   "outputs": [],
   "source": [
    "data_events_copy = raw_data_events.copy()\n",
    "data_matches_copy = raw_data_matches.copy()"
   ]
  },
  {
   "cell_type": "code",
   "execution_count": 6,
   "id": "40d98ed6-d2bc-4574-91f1-8dba502e75db",
   "metadata": {},
   "outputs": [],
   "source": [
    "data_events = data_events_copy.loc[: , \n",
    "                         ['match_id', 'pass_shot_assist', 'period', \n",
    "                          'pass_body_part_name', 'shot_outcome_name', 'pass_type_name', 'type_name',\n",
    "                          'possession_team_name', 'timestamp','pass_outcome_name', 'team_name',\n",
    "                          'shot_type_name', 'shot_end_location', 'location', \n",
    "                          'pass_recipient_name', 'possession', 'position_name', \n",
    "                          'shot_statsbomb_xg', 'minute', 'pass_assisted_shot_id', 'id',\n",
    "                          'player_name', 'shot_body_part_name', 'year', \n",
    "                          'pass_end_location', 'pass_goal_assist']]\n",
    "\n",
    "data_matches = data_matches_copy.loc[: , ['match_id','home_team_home_team_name','home_score', 'away_team_away_team_name', 'away_score', 'match_date', 'competition_stage_name', 'stadium_country_name']]"
   ]
  },
  {
   "cell_type": "code",
   "execution_count": 7,
   "id": "a79d71dc-b2e0-4063-a79f-fe9f2c29f1aa",
   "metadata": {},
   "outputs": [],
   "source": [
    "data_matches.rename(columns = {'home_team_home_team_name': 'home_team_name', 'away_team_away_team_name': 'away_team_name', 'competition_stage_name':'stage', 'stadium_country_name':'world_cup'}, inplace = True)"
   ]
  },
  {
   "cell_type": "code",
   "execution_count": 8,
   "id": "bc4e0776-8b1f-4e03-8a83-e88fea5b562f",
   "metadata": {},
   "outputs": [],
   "source": [
    "columns_to_float = ['shot_end_location_x', 'shot_end_location_y','location_x', \n",
    "                    'location_y', 'pass_end_location_x', 'pass_end_location_y']\n",
    "\n",
    "columns_to_category = [ 'shot_outcome_name', 'pass_type_name', 'type_name', 'pass_outcome_name', \n",
    "                        'shot_type_name','shot_body_part_name', 'position_name', 'team_name', \n",
    "                        'possession_team_name']"
   ]
  },
  {
   "cell_type": "code",
   "execution_count": 9,
   "id": "d03778a3-fd10-4afc-8b28-cc546157eb50",
   "metadata": {},
   "outputs": [],
   "source": [
    "# Fuction that create two columns with x and y coordinates and return a dataframe with these 2 columns\n",
    "\n",
    "def extract_coordinates(dataframe, column_name):\n",
    "    \"\"\"\n",
    "    Extract x and y coordinates from a column in a pandas DataFrame.\n",
    "\n",
    "    Args:\n",
    "    dataframe: pandas DataFrame containing the column with the coordinates.\n",
    "    column_name: name of the column to extract coordinates from.\n",
    "    \n",
    "    Returns:\n",
    "    A new pandas DataFrame with two columns: '{column_name}_x' and '{column_name}_y',\n",
    "    containing the x and y coordinates extracted from the original column.\n",
    "    \"\"\"\n",
    "    extracted = dataframe[column_name].str.extract(r'\\{(\\d+\\.\\d+),(\\d+\\.\\d+)\\}')\n",
    "    return pd.DataFrame({f'{column_name}_x':extracted[0], f'{column_name}_y': extracted[1]})\n",
    "\n",
    "# Define a list of column names to extract coordinates from\n",
    "columns_to_extract = ['shot_end_location', 'location', 'pass_end_location']\n",
    "\n",
    "# Extract the coordinates for each column using list comprehension\n",
    "extracted_dfs = [extract_coordinates(data_events, col) for col in columns_to_extract]\n",
    "\n",
    "# Concatenate the resulting DataFrames\n",
    "data_events = pd.concat([data_events] + extracted_dfs, axis=1)\n",
    "\n",
    "# Drop the original columns\n",
    "data_events.drop(columns=columns_to_extract, inplace=True)"
   ]
  },
  {
   "cell_type": "code",
   "execution_count": 10,
   "id": "bfef7193-b468-46a0-807c-91d7ee4b5c20",
   "metadata": {},
   "outputs": [],
   "source": [
    "def convert_column_type(dataframe, columns: list, dtype: str):\n",
    "    \"\"\"\n",
    "    Convert columns in a pandas DataFrame to the specified data type.\n",
    "    \n",
    "    Args:\n",
    "    dataframe: pandas DataFrame to be modified.\n",
    "    columns: list of columns to be converted to the specified data type.\n",
    "    dtype: the data type to which the columns will be converted. Valid values are 'float', 'int', 'category', 'bool'.\n",
    "    \n",
    "    Returns:\n",
    "    None.\n",
    "    \"\"\"\n",
    "    try:\n",
    "        if dtype == 'float':\n",
    "            dataframe[columns] = dataframe[columns].astype(float)\n",
    "        elif dtype == 'int':\n",
    "            dataframe[columns] = dataframe[columns].astype(int)\n",
    "        elif dtype == 'category':\n",
    "            for col in columns:\n",
    "                dataframe[col] = dataframe[col].astype('category')\n",
    "        else:\n",
    "            raise ValueError(f\"Invalid dtype: {dtype}. Valid values are 'float', 'int', 'category', 'bool'.\")\n",
    "    except KeyError as e:\n",
    "        print(f\"Error: column '{str(e)}' not found in DataFrame.\")\n",
    "    except ValueError as e:\n",
    "        print(f\"Error: {str(e)}\")\n",
    "    \n",
    "    return None"
   ]
  },
  {
   "cell_type": "code",
   "execution_count": 11,
   "id": "fae7f199-91e5-41cc-ae73-3c89c8a6e02e",
   "metadata": {},
   "outputs": [],
   "source": [
    "convert_column_type(data_events, columns_to_float, 'float')\n",
    "convert_column_type(data_events, columns_to_category, 'category')\n",
    "data_matches['match_date'] = pd.to_datetime(data_matches['match_date'])\n",
    "data_matches = data_matches.sort_values('match_date')"
   ]
  },
  {
   "cell_type": "code",
   "execution_count": 12,
   "id": "5a50f217-2596-4234-a325-1202e75198a5",
   "metadata": {},
   "outputs": [],
   "source": [
    "map_match_ids = {7525: 1, 7578: 2, 7577: 3, 7576: 4, 7529: 5, 7530: 6, 7531: 7, 7532: 8, 7535: 9, 7533: 10, 7534: 11, 7538: 12, 7537: 13, 7536: 14,\n",
    "                 7539: 15, 7540: 16, 7541: 17, 7542: 18, 7544: 19, 7543: 20, 7545: 21, 7546: 22, 7547: 23, 7548: 24, 7549: 25, 7550: 26, 7552: 27, \n",
    "                 7551: 28, 7553: 29, 7556: 30, 7555: 31, 7554: 32, 7560: 33, 7557: 34, 7559: 35, 7558: 36, 7561: 37, 7563: 38, 7564: 39, 7562: 40, \n",
    "                 7565: 41, 7567: 42, 7568: 43, 7566: 44, 7572: 45, 7569: 46, 7571: 47, 7570: 48, 7580: 49, 7579: 50, 7582: 51, 7581: 52, 7584: 53, \n",
    "                 7583: 54, 7585: 55, 7586: 56, 8650: 57, 8649: 58, 8651: 59, 8652: 60, 8655: 61, 8656: 62, 8657: 63, 8658: 64, 3857286: 65, 3857282: 66, \n",
    "                 3857271: 67, 3857285: 68, 3857265: 69, 3857279: 70, 3857300: 71, 3857254: 72, 3857268: 73, 3857277: 74, 3857291: 75, 3857284: 76, \n",
    "                 3857258: 77, 3857290: 78, 3857298: 79, 3857287: 80, 3857301: 81, 3857272: 82, 3857273: 83, 3857274: 84, 3857288: 85, 3857297: 86, \n",
    "                 3857266: 87, 3857289: 88, 3857263: 89, 3857295: 90, 3857283: 91, 3857281: 92, 3857270: 93, 3857259: 94, 3857269: 95, 3857299: 96, \n",
    "                 3857267: 97, 3857261: 98, 3857278: 99, 3857294: 100, 3857260: 101, 3857275: 102, 3857264: 103, 3857257: 104, 3857296: 105, 3857292: 106, \n",
    "                 3857276: 107, 3857255: 108, 3857262: 109, 3857293: 110, 3857256: 111, 3857280: 112, 3869151: 113, 3869117: 114, 3869118: 115, 3869152: 116, \n",
    "                 3869253: 117, 3869219: 118, 3869254: 119, 3869220: 120, 3869420: 121, 3869321: 122, 3869486: 123, 3869354: 124, 3869519: 125, 3869552: 126, \n",
    "                 3869684: 127, 3869685: 128 }\n",
    "\n",
    "map_players = {'Neymar da Silva Santos Junior':'Neymar', 'Thiago Emiliano da Silva':'Thiago Silva', 'Carlos Henrique Casimiro':'Casimiro',\n",
    "                         'Philippe Coutinho Correia':'Philippe Coutinho', 'Marcos Aoás Corrêa':'Marquinhos', 'Danilo Luiz da Silva':'Danilo',\n",
    "                         'Marcelo Vieira da Silva Júnior':'Marcelo', 'Éder Gabriel Militão':'Eder Militão', 'João Miranda de Souza Filho':'Miranda',\n",
    "                         'Willian Borges da Silva':'Willian', 'Gabriel Fernando de Jesus':'Gabriel Jesus', 'Fágner Conserva Lemos':'Fágner',\n",
    "                         'Lucas Tolentino Coelho de Lima':'Lucas Paquetá', 'José Paulo Bezzera Maciel Júnior':'Paulinho', 'Raphael Dias Belloli':'Raphinha',\n",
    "                         'Alex Sandro Lobo Silva':'Alex Sandro', 'Vinícius José Paixão de Oliveira Júnior': 'Vinícius Júnior',\n",
    "                         'Alisson Ramsés Becker':'Alisson Becker', 'Rodrygo Silva de Goes':'Rodrygo Goes', 'Antony Matheus dos Santos':'Antony', \n",
    "                         'Filipe Luís Kasmirsk':'Filipe Luís', 'Fernando Luiz Rosa':'Fernandinho', 'Richarlison de Andrade':'Richarlison', \n",
    "                         'Frederico Rodrigues Santos':'Fred','Daniel Alves da Silva':'Daniel Alves', 'Gleison Bremer Silva Nascimento':'Bremer', \n",
    "                         'Douglas Costa de Souza':'Douglas Costa', 'Roberto Firmino Barbosa de Oliveira':'Roberto Firmino', \n",
    "                         'Gabriel Teodoro Martinelli Silva':'Gabriel Martinelli','Bruno Guimarães Rodriguez Moura':'Bruno Guimarães', \n",
    "                         'Renato Soares de Oliveira Augusto':'Renato Augusto', 'Alex Nicolao Telles':'Alex Telles', 'Fábio Henrique Tavares':'Fabinho', \n",
    "                         'Pedro Guilherme Abreu dos Santos': 'Pedro','Ederson Santana de Moraes':'Ederson', \n",
    "                         'Éverton Augusto de Barros Ribeiro':'Éverton Ribeiro', 'Weverton Pereira da Silva':'Weverton', 'Lionel Andrés Messi Cuccittini': 'Lionel Messi', 'Kylian Mbappé Lottin': 'Kylian Mbappé',\n",
    "                         'Ángel Fabián Di María Hernández': 'Ángel Di María'}\n",
    "\n",
    "# Mapping new values for match_id\n",
    "data_events['match_id'] = data_events['match_id'].replace(map_match_ids)\n",
    "data_matches['match_id'] = data_matches['match_id'].replace(map_match_ids)\n",
    "\n",
    "# Mapping new values for players\n",
    "data_events['player_name'] = data_events['player_name'].replace(map_players)\n",
    "data_events['pass_recipient_name'] = data_events['pass_recipient_name'].replace(map_players)\n",
    "\n",
    "#Creating new columns\n",
    "data_matches['match'] = data_matches['home_team_name'] + ' X ' + data_matches['away_team_name']\n",
    "data_matches['final_score'] = data_matches['home_score'].astype(str) + ' - ' + data_matches['away_score'].astype(str)"
   ]
  },
  {
   "cell_type": "code",
   "execution_count": 13,
   "id": "a798e072-a885-47bf-967a-5aa5c336f997",
   "metadata": {},
   "outputs": [
    {
     "name": "stdout",
     "output_type": "stream",
     "text": [
      "------------------------------------------------------------\n",
      "Antes: Dataframe ocupa 500.35 megabytes de memória.\n",
      "------------------------------------------------------------\n",
      "Depois: Dataframe ocupa 74.44 megabytes de memória.\n",
      "------------------------------------------------------------\n",
      "A otimização reduziu o tamanho do dataframe em 85.12%\n",
      "------------------------------------------------------------\n"
     ]
    }
   ],
   "source": [
    "def uso_de_memoria(dataframe): \n",
    "    # Calcular o uso de memória em bytes\n",
    "    memory = dataframe.memory_usage().sum()\n",
    "\n",
    "    # Converter para megabytes\n",
    "    memory_mb = memory / 1024 / 1024\n",
    "\n",
    "    # Imprimir o tamanho total de memória em megabytes\n",
    "    return f\"Dataframe ocupa {memory_mb:.2f} megabytes de memória.\"\n",
    "\n",
    "\n",
    "tamanho_antes = uso_de_memoria(raw_data_events)\n",
    "tamanho_depois = uso_de_memoria(data_events)\n",
    "\n",
    "diferenca_percentual = ((float(tamanho_antes.split()[2]) - float(tamanho_depois.split()[2])) / float(tamanho_antes.split()[2])) * 100\n",
    "print('-'*60)\n",
    "print(f'Antes: {tamanho_antes}')\n",
    "print('-'*60)\n",
    "print(f'Depois: {tamanho_depois}')\n",
    "print('-'*60)\n",
    "print(f\"A otimização reduziu o tamanho do dataframe em {diferenca_percentual:.2f}%\")\n",
    "print('-'*60)"
   ]
  },
  {
   "cell_type": "code",
   "execution_count": 14,
   "id": "6a1195b1-784c-442c-bd26-982f193c9576",
   "metadata": {},
   "outputs": [
    {
     "data": {
      "text/plain": [
       "(461845, 29)"
      ]
     },
     "execution_count": 14,
     "metadata": {},
     "output_type": "execute_result"
    }
   ],
   "source": [
    "data_events.shape"
   ]
  },
  {
   "cell_type": "code",
   "execution_count": 16,
   "id": "69d2ecad-5050-4af7-a03f-3a69ee54a441",
   "metadata": {},
   "outputs": [],
   "source": [
    "csv_data_events = data_events.to_csv('../Data/main_data_all_events.csv',index = False)\n",
    "csv_data_matches = data_matches.to_csv('../Data/main_data_matches_detail.csv',index = False)"
   ]
  },
  {
   "cell_type": "code",
   "execution_count": null,
   "id": "b59acc65-30da-4a4e-9650-dc2bc3913e11",
   "metadata": {},
   "outputs": [],
   "source": []
  }
 ],
 "metadata": {
  "kernelspec": {
   "display_name": "Python 3 (ipykernel)",
   "language": "python",
   "name": "python3"
  },
  "language_info": {
   "codemirror_mode": {
    "name": "ipython",
    "version": 3
   },
   "file_extension": ".py",
   "mimetype": "text/x-python",
   "name": "python",
   "nbconvert_exporter": "python",
   "pygments_lexer": "ipython3",
   "version": "3.9.13"
  }
 },
 "nbformat": 4,
 "nbformat_minor": 5
}
